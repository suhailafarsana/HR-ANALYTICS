{
 "cells": [
  {
   "cell_type": "code",
   "execution_count": 1,
   "id": "0d9841a1",
   "metadata": {},
   "outputs": [],
   "source": [
    "import numpy as np\n",
    "import seaborn as sns\n",
    "import matplotlib.pyplot as plt\n",
    "import pandas as pd\n",
    "import sklearn"
   ]
  },
  {
   "cell_type": "code",
   "execution_count": 2,
   "id": "cf72a30a",
   "metadata": {},
   "outputs": [],
   "source": [
    "# Reading data\n",
    "train= pd.read_csv('train_LZdllcl.csv')\n",
    "test=pd.read_csv('test_2umaH9m.csv')"
   ]
  },
  {
   "cell_type": "code",
   "execution_count": 3,
   "id": "01d0e0c7",
   "metadata": {},
   "outputs": [
    {
     "name": "stdout",
     "output_type": "stream",
     "text": [
      "Shape of the Training Data : (54808, 14)\n",
      "Shape of the Test Data : (23490, 13)\n"
     ]
    }
   ],
   "source": [
    "# lets check the shape of the train and test datasets\n",
    "print(\"Shape of the Training Data :\", train.shape)\n",
    "print(\"Shape of the Test Data :\", test.shape)"
   ]
  },
  {
   "cell_type": "code",
   "execution_count": 4,
   "id": "0f2044d5",
   "metadata": {},
   "outputs": [
    {
     "data": {
      "text/plain": [
       "Index(['employee_id', 'department', 'region', 'education', 'gender',\n",
       "       'recruitment_channel', 'no_of_trainings', 'age', 'previous_year_rating',\n",
       "       'length_of_service', 'KPIs_met >80%', 'awards_won?',\n",
       "       'avg_training_score', 'is_promoted'],\n",
       "      dtype='object')"
      ]
     },
     "execution_count": 4,
     "metadata": {},
     "output_type": "execute_result"
    }
   ],
   "source": [
    "# columns in Training Data\n",
    "train.columns"
   ]
  },
  {
   "cell_type": "code",
   "execution_count": 5,
   "id": "2a26cfd1",
   "metadata": {},
   "outputs": [
    {
     "data": {
      "text/plain": [
       "Index(['employee_id', 'department', 'region', 'education', 'gender',\n",
       "       'recruitment_channel', 'no_of_trainings', 'age', 'previous_year_rating',\n",
       "       'length_of_service', 'KPIs_met >80%', 'awards_won?',\n",
       "       'avg_training_score'],\n",
       "      dtype='object')"
      ]
     },
     "execution_count": 5,
     "metadata": {},
     "output_type": "execute_result"
    }
   ],
   "source": [
    "# columns in Testing Data\n",
    "test.columns"
   ]
  },
  {
   "cell_type": "code",
   "execution_count": 6,
   "id": "7177e12a",
   "metadata": {},
   "outputs": [
    {
     "data": {
      "text/html": [
       "<div>\n",
       "<style scoped>\n",
       "    .dataframe tbody tr th:only-of-type {\n",
       "        vertical-align: middle;\n",
       "    }\n",
       "\n",
       "    .dataframe tbody tr th {\n",
       "        vertical-align: top;\n",
       "    }\n",
       "\n",
       "    .dataframe thead th {\n",
       "        text-align: right;\n",
       "    }\n",
       "</style>\n",
       "<table border=\"1\" class=\"dataframe\">\n",
       "  <thead>\n",
       "    <tr style=\"text-align: right;\">\n",
       "      <th></th>\n",
       "      <th>employee_id</th>\n",
       "      <th>department</th>\n",
       "      <th>region</th>\n",
       "      <th>education</th>\n",
       "      <th>gender</th>\n",
       "      <th>recruitment_channel</th>\n",
       "      <th>no_of_trainings</th>\n",
       "      <th>age</th>\n",
       "      <th>previous_year_rating</th>\n",
       "      <th>length_of_service</th>\n",
       "      <th>KPIs_met &gt;80%</th>\n",
       "      <th>awards_won?</th>\n",
       "      <th>avg_training_score</th>\n",
       "      <th>is_promoted</th>\n",
       "    </tr>\n",
       "  </thead>\n",
       "  <tbody>\n",
       "    <tr>\n",
       "      <th>0</th>\n",
       "      <td>65438</td>\n",
       "      <td>Sales &amp; Marketing</td>\n",
       "      <td>region_7</td>\n",
       "      <td>Master's &amp; above</td>\n",
       "      <td>f</td>\n",
       "      <td>sourcing</td>\n",
       "      <td>1</td>\n",
       "      <td>35</td>\n",
       "      <td>5.0</td>\n",
       "      <td>8</td>\n",
       "      <td>1</td>\n",
       "      <td>0</td>\n",
       "      <td>49</td>\n",
       "      <td>0</td>\n",
       "    </tr>\n",
       "    <tr>\n",
       "      <th>1</th>\n",
       "      <td>65141</td>\n",
       "      <td>Operations</td>\n",
       "      <td>region_22</td>\n",
       "      <td>Bachelor's</td>\n",
       "      <td>m</td>\n",
       "      <td>other</td>\n",
       "      <td>1</td>\n",
       "      <td>30</td>\n",
       "      <td>5.0</td>\n",
       "      <td>4</td>\n",
       "      <td>0</td>\n",
       "      <td>0</td>\n",
       "      <td>60</td>\n",
       "      <td>0</td>\n",
       "    </tr>\n",
       "    <tr>\n",
       "      <th>2</th>\n",
       "      <td>7513</td>\n",
       "      <td>Sales &amp; Marketing</td>\n",
       "      <td>region_19</td>\n",
       "      <td>Bachelor's</td>\n",
       "      <td>m</td>\n",
       "      <td>sourcing</td>\n",
       "      <td>1</td>\n",
       "      <td>34</td>\n",
       "      <td>3.0</td>\n",
       "      <td>7</td>\n",
       "      <td>0</td>\n",
       "      <td>0</td>\n",
       "      <td>50</td>\n",
       "      <td>0</td>\n",
       "    </tr>\n",
       "    <tr>\n",
       "      <th>3</th>\n",
       "      <td>2542</td>\n",
       "      <td>Sales &amp; Marketing</td>\n",
       "      <td>region_23</td>\n",
       "      <td>Bachelor's</td>\n",
       "      <td>m</td>\n",
       "      <td>other</td>\n",
       "      <td>2</td>\n",
       "      <td>39</td>\n",
       "      <td>1.0</td>\n",
       "      <td>10</td>\n",
       "      <td>0</td>\n",
       "      <td>0</td>\n",
       "      <td>50</td>\n",
       "      <td>0</td>\n",
       "    </tr>\n",
       "    <tr>\n",
       "      <th>4</th>\n",
       "      <td>48945</td>\n",
       "      <td>Technology</td>\n",
       "      <td>region_26</td>\n",
       "      <td>Bachelor's</td>\n",
       "      <td>m</td>\n",
       "      <td>other</td>\n",
       "      <td>1</td>\n",
       "      <td>45</td>\n",
       "      <td>3.0</td>\n",
       "      <td>2</td>\n",
       "      <td>0</td>\n",
       "      <td>0</td>\n",
       "      <td>73</td>\n",
       "      <td>0</td>\n",
       "    </tr>\n",
       "  </tbody>\n",
       "</table>\n",
       "</div>"
      ],
      "text/plain": [
       "   employee_id         department     region         education gender  \\\n",
       "0        65438  Sales & Marketing   region_7  Master's & above      f   \n",
       "1        65141         Operations  region_22        Bachelor's      m   \n",
       "2         7513  Sales & Marketing  region_19        Bachelor's      m   \n",
       "3         2542  Sales & Marketing  region_23        Bachelor's      m   \n",
       "4        48945         Technology  region_26        Bachelor's      m   \n",
       "\n",
       "  recruitment_channel  no_of_trainings  age  previous_year_rating  \\\n",
       "0            sourcing                1   35                   5.0   \n",
       "1               other                1   30                   5.0   \n",
       "2            sourcing                1   34                   3.0   \n",
       "3               other                2   39                   1.0   \n",
       "4               other                1   45                   3.0   \n",
       "\n",
       "   length_of_service  KPIs_met >80%  awards_won?  avg_training_score  \\\n",
       "0                  8              1            0                  49   \n",
       "1                  4              0            0                  60   \n",
       "2                  7              0            0                  50   \n",
       "3                 10              0            0                  50   \n",
       "4                  2              0            0                  73   \n",
       "\n",
       "   is_promoted  \n",
       "0            0  \n",
       "1            0  \n",
       "2            0  \n",
       "3            0  \n",
       "4            0  "
      ]
     },
     "execution_count": 6,
     "metadata": {},
     "output_type": "execute_result"
    }
   ],
   "source": [
    "# lets check the head of the dataset\n",
    "train.head()"
   ]
  },
  {
   "cell_type": "code",
   "execution_count": 7,
   "id": "956dae58",
   "metadata": {},
   "outputs": [
    {
     "data": {
      "text/html": [
       "<div>\n",
       "<style scoped>\n",
       "    .dataframe tbody tr th:only-of-type {\n",
       "        vertical-align: middle;\n",
       "    }\n",
       "\n",
       "    .dataframe tbody tr th {\n",
       "        vertical-align: top;\n",
       "    }\n",
       "\n",
       "    .dataframe thead th {\n",
       "        text-align: right;\n",
       "    }\n",
       "</style>\n",
       "<table border=\"1\" class=\"dataframe\">\n",
       "  <thead>\n",
       "    <tr style=\"text-align: right;\">\n",
       "      <th></th>\n",
       "      <th>employee_id</th>\n",
       "      <th>department</th>\n",
       "      <th>region</th>\n",
       "      <th>education</th>\n",
       "      <th>gender</th>\n",
       "      <th>recruitment_channel</th>\n",
       "      <th>no_of_trainings</th>\n",
       "      <th>age</th>\n",
       "      <th>previous_year_rating</th>\n",
       "      <th>length_of_service</th>\n",
       "      <th>KPIs_met &gt;80%</th>\n",
       "      <th>awards_won?</th>\n",
       "      <th>avg_training_score</th>\n",
       "    </tr>\n",
       "  </thead>\n",
       "  <tbody>\n",
       "    <tr>\n",
       "      <th>0</th>\n",
       "      <td>8724</td>\n",
       "      <td>Technology</td>\n",
       "      <td>region_26</td>\n",
       "      <td>Bachelor's</td>\n",
       "      <td>m</td>\n",
       "      <td>sourcing</td>\n",
       "      <td>1</td>\n",
       "      <td>24</td>\n",
       "      <td>NaN</td>\n",
       "      <td>1</td>\n",
       "      <td>1</td>\n",
       "      <td>0</td>\n",
       "      <td>77</td>\n",
       "    </tr>\n",
       "    <tr>\n",
       "      <th>1</th>\n",
       "      <td>74430</td>\n",
       "      <td>HR</td>\n",
       "      <td>region_4</td>\n",
       "      <td>Bachelor's</td>\n",
       "      <td>f</td>\n",
       "      <td>other</td>\n",
       "      <td>1</td>\n",
       "      <td>31</td>\n",
       "      <td>3.0</td>\n",
       "      <td>5</td>\n",
       "      <td>0</td>\n",
       "      <td>0</td>\n",
       "      <td>51</td>\n",
       "    </tr>\n",
       "    <tr>\n",
       "      <th>2</th>\n",
       "      <td>72255</td>\n",
       "      <td>Sales &amp; Marketing</td>\n",
       "      <td>region_13</td>\n",
       "      <td>Bachelor's</td>\n",
       "      <td>m</td>\n",
       "      <td>other</td>\n",
       "      <td>1</td>\n",
       "      <td>31</td>\n",
       "      <td>1.0</td>\n",
       "      <td>4</td>\n",
       "      <td>0</td>\n",
       "      <td>0</td>\n",
       "      <td>47</td>\n",
       "    </tr>\n",
       "    <tr>\n",
       "      <th>3</th>\n",
       "      <td>38562</td>\n",
       "      <td>Procurement</td>\n",
       "      <td>region_2</td>\n",
       "      <td>Bachelor's</td>\n",
       "      <td>f</td>\n",
       "      <td>other</td>\n",
       "      <td>3</td>\n",
       "      <td>31</td>\n",
       "      <td>2.0</td>\n",
       "      <td>9</td>\n",
       "      <td>0</td>\n",
       "      <td>0</td>\n",
       "      <td>65</td>\n",
       "    </tr>\n",
       "    <tr>\n",
       "      <th>4</th>\n",
       "      <td>64486</td>\n",
       "      <td>Finance</td>\n",
       "      <td>region_29</td>\n",
       "      <td>Bachelor's</td>\n",
       "      <td>m</td>\n",
       "      <td>sourcing</td>\n",
       "      <td>1</td>\n",
       "      <td>30</td>\n",
       "      <td>4.0</td>\n",
       "      <td>7</td>\n",
       "      <td>0</td>\n",
       "      <td>0</td>\n",
       "      <td>61</td>\n",
       "    </tr>\n",
       "  </tbody>\n",
       "</table>\n",
       "</div>"
      ],
      "text/plain": [
       "   employee_id         department     region   education gender  \\\n",
       "0         8724         Technology  region_26  Bachelor's      m   \n",
       "1        74430                 HR   region_4  Bachelor's      f   \n",
       "2        72255  Sales & Marketing  region_13  Bachelor's      m   \n",
       "3        38562        Procurement   region_2  Bachelor's      f   \n",
       "4        64486            Finance  region_29  Bachelor's      m   \n",
       "\n",
       "  recruitment_channel  no_of_trainings  age  previous_year_rating  \\\n",
       "0            sourcing                1   24                   NaN   \n",
       "1               other                1   31                   3.0   \n",
       "2               other                1   31                   1.0   \n",
       "3               other                3   31                   2.0   \n",
       "4            sourcing                1   30                   4.0   \n",
       "\n",
       "   length_of_service  KPIs_met >80%  awards_won?  avg_training_score  \n",
       "0                  1              1            0                  77  \n",
       "1                  5              0            0                  51  \n",
       "2                  4              0            0                  47  \n",
       "3                  9              0            0                  65  \n",
       "4                  7              0            0                  61  "
      ]
     },
     "execution_count": 7,
     "metadata": {},
     "output_type": "execute_result"
    }
   ],
   "source": [
    "# lets check the head of the test data\n",
    "test.head()"
   ]
  },
  {
   "cell_type": "code",
   "execution_count": 8,
   "id": "c1062215",
   "metadata": {},
   "outputs": [
    {
     "data": {
      "text/plain": [
       "0    50140\n",
       "1     4668\n",
       "Name: is_promoted, dtype: int64"
      ]
     },
     "execution_count": 8,
     "metadata": {},
     "output_type": "execute_result"
    }
   ],
   "source": [
    "train['is_promoted'].value_counts()"
   ]
  },
  {
   "cell_type": "code",
   "execution_count": 9,
   "id": "28716e7f",
   "metadata": {},
   "outputs": [
    {
     "data": {
      "text/html": [
       "<style type=\"text/css\">\n",
       "#T_34eae_row0_col0, #T_34eae_row0_col1, #T_34eae_row0_col2, #T_34eae_row0_col3, #T_34eae_row1_col0, #T_34eae_row1_col1, #T_34eae_row1_col2, #T_34eae_row1_col3, #T_34eae_row2_col0, #T_34eae_row2_col1, #T_34eae_row2_col2, #T_34eae_row2_col3, #T_34eae_row3_col0, #T_34eae_row3_col1, #T_34eae_row3_col2, #T_34eae_row3_col3, #T_34eae_row4_col0, #T_34eae_row4_col1, #T_34eae_row4_col2, #T_34eae_row4_col3, #T_34eae_row6_col0, #T_34eae_row6_col1, #T_34eae_row6_col2, #T_34eae_row6_col3, #T_34eae_row7_col0, #T_34eae_row7_col1, #T_34eae_row7_col2, #T_34eae_row7_col3, #T_34eae_row8_col0, #T_34eae_row8_col1, #T_34eae_row8_col2, #T_34eae_row8_col3, #T_34eae_row9_col0, #T_34eae_row9_col1, #T_34eae_row9_col2, #T_34eae_row9_col3, #T_34eae_row10_col0, #T_34eae_row10_col1, #T_34eae_row10_col2, #T_34eae_row10_col3, #T_34eae_row12_col0, #T_34eae_row12_col1, #T_34eae_row12_col2, #T_34eae_row12_col3, #T_34eae_row13_col0, #T_34eae_row13_col1, #T_34eae_row13_col2, #T_34eae_row13_col3 {\n",
       "  background-color: #000000;\n",
       "  color: #f1f1f1;\n",
       "}\n",
       "#T_34eae_row5_col0, #T_34eae_row5_col1 {\n",
       "  background-color: #b8744a;\n",
       "  color: #f1f1f1;\n",
       "}\n",
       "#T_34eae_row5_col2, #T_34eae_row5_col3 {\n",
       "  background-color: #b47249;\n",
       "  color: #f1f1f1;\n",
       "}\n",
       "#T_34eae_row11_col0, #T_34eae_row11_col1, #T_34eae_row11_col2, #T_34eae_row11_col3 {\n",
       "  background-color: #ffc77f;\n",
       "  color: #000000;\n",
       "}\n",
       "</style>\n",
       "<table id=\"T_34eae\">\n",
       "  <thead>\n",
       "    <tr>\n",
       "      <th class=\"blank level0\" >&nbsp;</th>\n",
       "      <th id=\"T_34eae_level0_col0\" class=\"col_heading level0 col0\" >Train_Total</th>\n",
       "      <th id=\"T_34eae_level0_col1\" class=\"col_heading level0 col1\" >Train_Percent %</th>\n",
       "      <th id=\"T_34eae_level0_col2\" class=\"col_heading level0 col2\" >Test_Total</th>\n",
       "      <th id=\"T_34eae_level0_col3\" class=\"col_heading level0 col3\" >Test_Percent %</th>\n",
       "    </tr>\n",
       "  </thead>\n",
       "  <tbody>\n",
       "    <tr>\n",
       "      <th id=\"T_34eae_level0_row0\" class=\"row_heading level0 row0\" >KPIs_met >80%</th>\n",
       "      <td id=\"T_34eae_row0_col0\" class=\"data row0 col0\" >0</td>\n",
       "      <td id=\"T_34eae_row0_col1\" class=\"data row0 col1\" >0.000000</td>\n",
       "      <td id=\"T_34eae_row0_col2\" class=\"data row0 col2\" >0.000000</td>\n",
       "      <td id=\"T_34eae_row0_col3\" class=\"data row0 col3\" >0.000000</td>\n",
       "    </tr>\n",
       "    <tr>\n",
       "      <th id=\"T_34eae_level0_row1\" class=\"row_heading level0 row1\" >age</th>\n",
       "      <td id=\"T_34eae_row1_col0\" class=\"data row1 col0\" >0</td>\n",
       "      <td id=\"T_34eae_row1_col1\" class=\"data row1 col1\" >0.000000</td>\n",
       "      <td id=\"T_34eae_row1_col2\" class=\"data row1 col2\" >0.000000</td>\n",
       "      <td id=\"T_34eae_row1_col3\" class=\"data row1 col3\" >0.000000</td>\n",
       "    </tr>\n",
       "    <tr>\n",
       "      <th id=\"T_34eae_level0_row2\" class=\"row_heading level0 row2\" >avg_training_score</th>\n",
       "      <td id=\"T_34eae_row2_col0\" class=\"data row2 col0\" >0</td>\n",
       "      <td id=\"T_34eae_row2_col1\" class=\"data row2 col1\" >0.000000</td>\n",
       "      <td id=\"T_34eae_row2_col2\" class=\"data row2 col2\" >0.000000</td>\n",
       "      <td id=\"T_34eae_row2_col3\" class=\"data row2 col3\" >0.000000</td>\n",
       "    </tr>\n",
       "    <tr>\n",
       "      <th id=\"T_34eae_level0_row3\" class=\"row_heading level0 row3\" >awards_won?</th>\n",
       "      <td id=\"T_34eae_row3_col0\" class=\"data row3 col0\" >0</td>\n",
       "      <td id=\"T_34eae_row3_col1\" class=\"data row3 col1\" >0.000000</td>\n",
       "      <td id=\"T_34eae_row3_col2\" class=\"data row3 col2\" >0.000000</td>\n",
       "      <td id=\"T_34eae_row3_col3\" class=\"data row3 col3\" >0.000000</td>\n",
       "    </tr>\n",
       "    <tr>\n",
       "      <th id=\"T_34eae_level0_row4\" class=\"row_heading level0 row4\" >department</th>\n",
       "      <td id=\"T_34eae_row4_col0\" class=\"data row4 col0\" >0</td>\n",
       "      <td id=\"T_34eae_row4_col1\" class=\"data row4 col1\" >0.000000</td>\n",
       "      <td id=\"T_34eae_row4_col2\" class=\"data row4 col2\" >0.000000</td>\n",
       "      <td id=\"T_34eae_row4_col3\" class=\"data row4 col3\" >0.000000</td>\n",
       "    </tr>\n",
       "    <tr>\n",
       "      <th id=\"T_34eae_level0_row5\" class=\"row_heading level0 row5\" >education</th>\n",
       "      <td id=\"T_34eae_row5_col0\" class=\"data row5 col0\" >2409</td>\n",
       "      <td id=\"T_34eae_row5_col1\" class=\"data row5 col1\" >4.400000</td>\n",
       "      <td id=\"T_34eae_row5_col2\" class=\"data row5 col2\" >1034.000000</td>\n",
       "      <td id=\"T_34eae_row5_col3\" class=\"data row5 col3\" >4.400000</td>\n",
       "    </tr>\n",
       "    <tr>\n",
       "      <th id=\"T_34eae_level0_row6\" class=\"row_heading level0 row6\" >employee_id</th>\n",
       "      <td id=\"T_34eae_row6_col0\" class=\"data row6 col0\" >0</td>\n",
       "      <td id=\"T_34eae_row6_col1\" class=\"data row6 col1\" >0.000000</td>\n",
       "      <td id=\"T_34eae_row6_col2\" class=\"data row6 col2\" >0.000000</td>\n",
       "      <td id=\"T_34eae_row6_col3\" class=\"data row6 col3\" >0.000000</td>\n",
       "    </tr>\n",
       "    <tr>\n",
       "      <th id=\"T_34eae_level0_row7\" class=\"row_heading level0 row7\" >gender</th>\n",
       "      <td id=\"T_34eae_row7_col0\" class=\"data row7 col0\" >0</td>\n",
       "      <td id=\"T_34eae_row7_col1\" class=\"data row7 col1\" >0.000000</td>\n",
       "      <td id=\"T_34eae_row7_col2\" class=\"data row7 col2\" >0.000000</td>\n",
       "      <td id=\"T_34eae_row7_col3\" class=\"data row7 col3\" >0.000000</td>\n",
       "    </tr>\n",
       "    <tr>\n",
       "      <th id=\"T_34eae_level0_row8\" class=\"row_heading level0 row8\" >is_promoted</th>\n",
       "      <td id=\"T_34eae_row8_col0\" class=\"data row8 col0\" >0</td>\n",
       "      <td id=\"T_34eae_row8_col1\" class=\"data row8 col1\" >0.000000</td>\n",
       "      <td id=\"T_34eae_row8_col2\" class=\"data row8 col2\" >nan</td>\n",
       "      <td id=\"T_34eae_row8_col3\" class=\"data row8 col3\" >nan</td>\n",
       "    </tr>\n",
       "    <tr>\n",
       "      <th id=\"T_34eae_level0_row9\" class=\"row_heading level0 row9\" >length_of_service</th>\n",
       "      <td id=\"T_34eae_row9_col0\" class=\"data row9 col0\" >0</td>\n",
       "      <td id=\"T_34eae_row9_col1\" class=\"data row9 col1\" >0.000000</td>\n",
       "      <td id=\"T_34eae_row9_col2\" class=\"data row9 col2\" >0.000000</td>\n",
       "      <td id=\"T_34eae_row9_col3\" class=\"data row9 col3\" >0.000000</td>\n",
       "    </tr>\n",
       "    <tr>\n",
       "      <th id=\"T_34eae_level0_row10\" class=\"row_heading level0 row10\" >no_of_trainings</th>\n",
       "      <td id=\"T_34eae_row10_col0\" class=\"data row10 col0\" >0</td>\n",
       "      <td id=\"T_34eae_row10_col1\" class=\"data row10 col1\" >0.000000</td>\n",
       "      <td id=\"T_34eae_row10_col2\" class=\"data row10 col2\" >0.000000</td>\n",
       "      <td id=\"T_34eae_row10_col3\" class=\"data row10 col3\" >0.000000</td>\n",
       "    </tr>\n",
       "    <tr>\n",
       "      <th id=\"T_34eae_level0_row11\" class=\"row_heading level0 row11\" >previous_year_rating</th>\n",
       "      <td id=\"T_34eae_row11_col0\" class=\"data row11 col0\" >4124</td>\n",
       "      <td id=\"T_34eae_row11_col1\" class=\"data row11 col1\" >7.520000</td>\n",
       "      <td id=\"T_34eae_row11_col2\" class=\"data row11 col2\" >1812.000000</td>\n",
       "      <td id=\"T_34eae_row11_col3\" class=\"data row11 col3\" >7.710000</td>\n",
       "    </tr>\n",
       "    <tr>\n",
       "      <th id=\"T_34eae_level0_row12\" class=\"row_heading level0 row12\" >recruitment_channel</th>\n",
       "      <td id=\"T_34eae_row12_col0\" class=\"data row12 col0\" >0</td>\n",
       "      <td id=\"T_34eae_row12_col1\" class=\"data row12 col1\" >0.000000</td>\n",
       "      <td id=\"T_34eae_row12_col2\" class=\"data row12 col2\" >0.000000</td>\n",
       "      <td id=\"T_34eae_row12_col3\" class=\"data row12 col3\" >0.000000</td>\n",
       "    </tr>\n",
       "    <tr>\n",
       "      <th id=\"T_34eae_level0_row13\" class=\"row_heading level0 row13\" >region</th>\n",
       "      <td id=\"T_34eae_row13_col0\" class=\"data row13 col0\" >0</td>\n",
       "      <td id=\"T_34eae_row13_col1\" class=\"data row13 col1\" >0.000000</td>\n",
       "      <td id=\"T_34eae_row13_col2\" class=\"data row13 col2\" >0.000000</td>\n",
       "      <td id=\"T_34eae_row13_col3\" class=\"data row13 col3\" >0.000000</td>\n",
       "    </tr>\n",
       "  </tbody>\n",
       "</table>\n"
      ],
      "text/plain": [
       "<pandas.io.formats.style.Styler at 0x2538d0a37f0>"
      ]
     },
     "execution_count": 9,
     "metadata": {},
     "output_type": "execute_result"
    }
   ],
   "source": [
    "train_total = train.isnull().sum()\n",
    "train_percent = ((train.isnull().sum()/train.shape[0])*100).round(2)\n",
    "test_total = test.isnull().sum()\n",
    "test_percent = ((test.isnull().sum()/test.shape[0])*100).round(2)\n",
    "train_missing_data = pd.concat([train_total, train_percent, test_total, test_percent],\n",
    "                                axis=1, \n",
    "                                keys=['Train_Total', 'Train_Percent %','Test_Total', 'Test_Percent %'],\n",
    "                                sort = True)\n",
    "train_missing_data.style.background_gradient(cmap = 'copper')"
   ]
  },
  {
   "cell_type": "markdown",
   "id": "39dfc0ff",
   "metadata": {},
   "source": [
    "# Treatment of Missing Values"
   ]
  },
  {
   "cell_type": "code",
   "execution_count": 10,
   "id": "9679d59f",
   "metadata": {},
   "outputs": [],
   "source": [
    "# missing values in training data set\n",
    "\n",
    "# lets calculate the total missing values in the dataset\n",
    "train_total = train.isnull().sum()\n",
    "\n",
    "# lets calculate the total missing values in the dataset\n",
    "test_total = test.isnull().sum()\n"
   ]
  },
  {
   "cell_type": "code",
   "execution_count": 11,
   "id": "90259238",
   "metadata": {},
   "outputs": [
    {
     "data": {
      "text/plain": [
       "employee_id                0\n",
       "department                 0\n",
       "region                     0\n",
       "education               2409\n",
       "gender                     0\n",
       "recruitment_channel        0\n",
       "no_of_trainings            0\n",
       "age                        0\n",
       "previous_year_rating    4124\n",
       "length_of_service          0\n",
       "KPIs_met >80%              0\n",
       "awards_won?                0\n",
       "avg_training_score         0\n",
       "is_promoted                0\n",
       "dtype: int64"
      ]
     },
     "execution_count": 11,
     "metadata": {},
     "output_type": "execute_result"
    }
   ],
   "source": [
    "train_total"
   ]
  },
  {
   "cell_type": "code",
   "execution_count": 12,
   "id": "8e53f2f6",
   "metadata": {},
   "outputs": [
    {
     "data": {
      "text/plain": [
       "employee_id                0\n",
       "department                 0\n",
       "region                     0\n",
       "education               1034\n",
       "gender                     0\n",
       "recruitment_channel        0\n",
       "no_of_trainings            0\n",
       "age                        0\n",
       "previous_year_rating    1812\n",
       "length_of_service          0\n",
       "KPIs_met >80%              0\n",
       "awards_won?                0\n",
       "avg_training_score         0\n",
       "dtype: int64"
      ]
     },
     "execution_count": 12,
     "metadata": {},
     "output_type": "execute_result"
    }
   ],
   "source": [
    "test_total"
   ]
  },
  {
   "cell_type": "code",
   "execution_count": 13,
   "id": "06ec1071",
   "metadata": {},
   "outputs": [
    {
     "name": "stdout",
     "output_type": "stream",
     "text": [
      "Number of Missing Values Left in the Training Data : 0\n"
     ]
    }
   ],
   "source": [
    "# lets impute the missing values in the Training Data\n",
    "\n",
    "train['education'] = train['education'].fillna(train['education'].mode()[0])\n",
    "train['previous_year_rating'] = train['previous_year_rating'].fillna(train['previous_year_rating'].mode()[0])\n",
    "\n",
    "# lets check whether the Null values are still present or not?\n",
    "print(\"Number of Missing Values Left in the Training Data :\", train.isnull().sum().sum())"
   ]
  },
  {
   "cell_type": "code",
   "execution_count": 14,
   "id": "884d7326",
   "metadata": {},
   "outputs": [
    {
     "name": "stdout",
     "output_type": "stream",
     "text": [
      "Number of Missing Values Left in the Training Data : 0\n"
     ]
    }
   ],
   "source": [
    "# lets impute the missing values in the Testing Data\n",
    "\n",
    "test['education'] = test['education'].fillna(test['education'].mode()[0])\n",
    "test['previous_year_rating'] = test['previous_year_rating'].fillna(test['previous_year_rating'].mode()[0])\n",
    "\n",
    "# lets check whether the Null values are still present or not?\n",
    "print(\"Number of Missing Values Left in the Training Data :\", test.isnull().sum().sum())"
   ]
  },
  {
   "cell_type": "code",
   "execution_count": 15,
   "id": "58ff5594",
   "metadata": {},
   "outputs": [],
   "source": [
    "train1= train.copy()\n",
    "test1= test.copy()"
   ]
  },
  {
   "cell_type": "markdown",
   "id": "25f0dcd2",
   "metadata": {},
   "source": [
    "# Feature Engineering"
   ]
  },
  {
   "cell_type": "code",
   "execution_count": 16,
   "id": "7e36e6c2",
   "metadata": {},
   "outputs": [],
   "source": [
    "# lets create some extra features from existing features to improve our Model\n",
    "\n",
    "# creating a Metric of Sum\n",
    "train1['sum_metric'] = train1['awards_won?']+train1['KPIs_met >80%'] + train1['previous_year_rating']\n",
    "test1['sum_metric'] = test1['awards_won?']+test1['KPIs_met >80%'] + test1['previous_year_rating']\n",
    "\n",
    "# creating a total score column\n",
    "train1['total_score'] = train1['avg_training_score'] * train1['no_of_trainings']\n",
    "test1['total_score'] = test1['avg_training_score'] * test1['no_of_trainings']"
   ]
  },
  {
   "cell_type": "code",
   "execution_count": 17,
   "id": "00e3f9fd",
   "metadata": {},
   "outputs": [
    {
     "data": {
      "text/plain": [
       "Index(['department', 'education', 'gender', 'no_of_trainings', 'age',\n",
       "       'previous_year_rating', 'length_of_service', 'KPIs_met >80%',\n",
       "       'awards_won?', 'avg_training_score', 'is_promoted', 'sum_metric',\n",
       "       'total_score'],\n",
       "      dtype='object')"
      ]
     },
     "execution_count": 17,
     "metadata": {},
     "output_type": "execute_result"
    }
   ],
   "source": [
    "# lets remove some of the columns which are not very useful for predicting the promotion.\n",
    "\n",
    "# we already know that the recruitment channel is very least related to promotion of an employee, so lets remove this column\n",
    "# even the region seems to contribute very less, when it comes to promotion, so lets remove it too.\n",
    "# also the employee id is not useful so lets remove it.\n",
    "\n",
    "train1 = train1.drop(['recruitment_channel', 'region', 'employee_id'], axis = 1)\n",
    "test1 = test1.drop(['recruitment_channel', 'region', 'employee_id'], axis = 1)\n",
    "\n",
    "# lets check the columns in train and test data set after feature engineering\n",
    "train1.columns"
   ]
  },
  {
   "cell_type": "code",
   "execution_count": 18,
   "id": "628946ae",
   "metadata": {},
   "outputs": [
    {
     "name": "stdout",
     "output_type": "stream",
     "text": [
      "Index([], dtype='object')\n",
      "Index([], dtype='object')\n"
     ]
    }
   ],
   "source": [
    "# lets encode the education in their degree of importance \n",
    "train1['education'] = train1['education'].replace((\"Master's & above\", \"Bachelor's\", \"Below Secondary\"),(3, 2, 1))\n",
    "test1['education'] = test1['education'].replace((\"Master's & above\", \"Bachelor's\", \"Below Secondary\"),(3, 2, 1))\n",
    "\n",
    "# lets use Label Encoding for Gender and Department to convert them into Numerical\n",
    "from sklearn.preprocessing import LabelEncoder\n",
    "\n",
    "le = LabelEncoder()\n",
    "train1['department'] = le.fit_transform(train1['department'])\n",
    "test1['department'] = le.fit_transform(test1['department'])\n",
    "train1['gender'] = le.fit_transform(train1['gender'])\n",
    "test1['gender'] = le.fit_transform(test1['gender'])\n",
    "\n",
    "# lets check whether we still have any categorical columns left after encoding\n",
    "print(train1.select_dtypes('object').columns)\n",
    "print(test1.select_dtypes('object').columns)"
   ]
  },
  {
   "cell_type": "code",
   "execution_count": null,
   "id": "73acab9e",
   "metadata": {},
   "outputs": [],
   "source": []
  },
  {
   "cell_type": "markdown",
   "id": "f7b99e83",
   "metadata": {},
   "source": [
    "# Splitting the Data"
   ]
  },
  {
   "cell_type": "code",
   "execution_count": 19,
   "id": "5156c09e",
   "metadata": {},
   "outputs": [
    {
     "name": "stdout",
     "output_type": "stream",
     "text": [
      "Shape of the x : (54808, 12)\n",
      "Shape of the y : (54808,)\n",
      "Shape of the x Test : (23490, 12)\n"
     ]
    }
   ],
   "source": [
    "# lets split the target data from the train data\n",
    "\n",
    "y = train1['is_promoted']\n",
    "x = train1.drop(['is_promoted'], axis = 1)\n",
    "x_test = test1\n",
    "\n",
    "# lets print the shapes of these newly formed data sets\n",
    "print(\"Shape of the x :\", x.shape)\n",
    "print(\"Shape of the y :\", y.shape)\n",
    "print(\"Shape of the x Test :\", x_test.shape)"
   ]
  },
  {
   "cell_type": "code",
   "execution_count": 20,
   "id": "3491f8db",
   "metadata": {},
   "outputs": [],
   "source": [
    "from sklearn.model_selection import train_test_split\n",
    "from sklearn.metrics import classification_report,confusion_matrix,accuracy_score, precision_score,recall_score, f1_score\n",
    "x_train, x_valid, y_train, y_valid = train_test_split(x, y, test_size = 0.2, random_state = 0)\n"
   ]
  },
  {
   "cell_type": "code",
   "execution_count": 21,
   "id": "19d3021c",
   "metadata": {},
   "outputs": [],
   "source": [
    "from sklearn.preprocessing import StandardScaler\n",
    "sc = StandardScaler()\n",
    "x_train = sc.fit_transform(x_train)\n",
    "x_valid = sc.transform(x_valid)\n",
    "x_test = sc.transform(x_test)"
   ]
  },
  {
   "cell_type": "code",
   "execution_count": 22,
   "id": "ef3043c8",
   "metadata": {},
   "outputs": [],
   "source": [
    "from sklearn.tree import DecisionTreeClassifier\n",
    "\n",
    "model = DecisionTreeClassifier()\n",
    "model.fit(x_train, y_train)\n",
    "\n",
    "y_pred = model.predict(x_valid)"
   ]
  },
  {
   "cell_type": "code",
   "execution_count": 23,
   "id": "ee3c608d",
   "metadata": {},
   "outputs": [
    {
     "name": "stdout",
     "output_type": "stream",
     "text": [
      "Accuracy Score is: 0.9066776135741653\n",
      "Recall Score is: 0.44408251900108575\n",
      "Precision Score: 0.44456521739130433\n",
      "F1 score is: 0.4443237370994025\n"
     ]
    }
   ],
   "source": [
    "\n",
    "print('Accuracy Score is:', accuracy_score(y_valid, y_pred))\n",
    "print('Recall Score is:', recall_score(y_valid, y_pred))\n",
    "print('Precision Score:', precision_score(y_valid, y_pred))\n",
    "print('F1 score is:', f1_score(y_valid, y_pred))"
   ]
  },
  {
   "cell_type": "code",
   "execution_count": 24,
   "id": "e1d82e4d",
   "metadata": {},
   "outputs": [],
   "source": [
    "from sklearn.svm import SVC\n",
    "svm=SVC(random_state=1)\n",
    "svm.fit(x_train,y_train)\n",
    "y_pred1 = model.predict(x_valid)"
   ]
  },
  {
   "cell_type": "code",
   "execution_count": 25,
   "id": "688b7265",
   "metadata": {},
   "outputs": [
    {
     "name": "stdout",
     "output_type": "stream",
     "text": [
      "Accuracy Score is: 0.9066776135741653\n",
      "Recall Score is: 0.44408251900108575\n",
      "Precision Score: 0.44456521739130433\n",
      "F1 score is: 0.4443237370994025\n"
     ]
    }
   ],
   "source": [
    "print('Accuracy Score is:', accuracy_score(y_valid, y_pred1))\n",
    "print('Recall Score is:', recall_score(y_valid, y_pred1))\n",
    "print('Precision Score:', precision_score(y_valid, y_pred1))\n",
    "print('F1 score is:', f1_score(y_valid, y_pred1))"
   ]
  },
  {
   "cell_type": "code",
   "execution_count": 26,
   "id": "aaf5209a",
   "metadata": {},
   "outputs": [
    {
     "name": "stdout",
     "output_type": "stream",
     "text": [
      "              precision    recall  f1-score   support\n",
      "\n",
      "           0       0.95      0.95      0.95     10041\n",
      "           1       0.44      0.44      0.44       921\n",
      "\n",
      "    accuracy                           0.91     10962\n",
      "   macro avg       0.70      0.70      0.70     10962\n",
      "weighted avg       0.91      0.91      0.91     10962\n",
      "\n"
     ]
    }
   ],
   "source": [
    "class_names=np.array(['0','1'])\n",
    "print(classification_report(y_valid, y_pred1, target_names=class_names))"
   ]
  },
  {
   "cell_type": "code",
   "execution_count": 27,
   "id": "fe938b5a",
   "metadata": {},
   "outputs": [
    {
     "name": "stdout",
     "output_type": "stream",
     "text": [
      "Accuracy Score is: 0.9191753329684365\n",
      "Recall Score is: 0.08577633007600434\n",
      "Precision Score: 0.6422764227642277\n",
      "F1 score is: 0.15134099616858238\n"
     ]
    }
   ],
   "source": [
    "from sklearn.linear_model import LogisticRegression\n",
    "Logit_model= LogisticRegression()\n",
    "Logit_model.fit(x_train, y_train)\n",
    "y_pred2= Logit_model.predict(x_valid)\n",
    "print('Accuracy Score is:', accuracy_score(y_valid, y_pred2))\n",
    "print('Recall Score is:', recall_score(y_valid, y_pred2))\n",
    "print('Precision Score:', precision_score(y_valid, y_pred2))\n",
    "print('F1 score is:', f1_score(y_valid, y_pred2))"
   ]
  },
  {
   "cell_type": "code",
   "execution_count": 28,
   "id": "d4d3a042",
   "metadata": {},
   "outputs": [
    {
     "name": "stdout",
     "output_type": "stream",
     "text": [
      "              precision    recall  f1-score   support\n",
      "\n",
      "           0       0.92      1.00      0.96     10041\n",
      "           1       0.64      0.09      0.15       921\n",
      "\n",
      "    accuracy                           0.92     10962\n",
      "   macro avg       0.78      0.54      0.55     10962\n",
      "weighted avg       0.90      0.92      0.89     10962\n",
      "\n"
     ]
    }
   ],
   "source": [
    "class_names=np.array(['0','1'])\n",
    "print(classification_report(y_valid, y_pred2, target_names=class_names))"
   ]
  },
  {
   "cell_type": "code",
   "execution_count": 29,
   "id": "7b895efb",
   "metadata": {},
   "outputs": [
    {
     "data": {
      "text/plain": [
       "RandomForestClassifier(min_samples_split=10, n_estimators=700, n_jobs=-1,\n",
       "                       oob_score=True, random_state=1)"
      ]
     },
     "execution_count": 29,
     "metadata": {},
     "output_type": "execute_result"
    }
   ],
   "source": [
    "from sklearn.ensemble import RandomForestClassifier\n",
    "\n",
    "rf = RandomForestClassifier(criterion='gini', \n",
    "                             n_estimators=700,\n",
    "                             min_samples_split=10,\n",
    "                             min_samples_leaf=1,\n",
    "                             max_features='auto',\n",
    "                             oob_score=True,\n",
    "                             random_state=1,\n",
    "                             n_jobs=-1)\n",
    "rf.fit(x_train,y_train)"
   ]
  },
  {
   "cell_type": "code",
   "execution_count": 30,
   "id": "f6c33e9f",
   "metadata": {},
   "outputs": [
    {
     "name": "stdout",
     "output_type": "stream",
     "text": [
      "Accurac.y Score is: 0.940156905674147\n",
      "Recall Score is: 0.32356134636264927\n",
      "Precision Score: 0.9003021148036254\n",
      "F1 score is: 0.476038338658147\n"
     ]
    }
   ],
   "source": [
    "y_pred3= rf.predict(x_valid)\n",
    "print('Accurac.y Score is:', accuracy_score(y_valid, y_pred3))\n",
    "print('Recall Score is:', recall_score(y_valid, y_pred3))\n",
    "print('Precision Score:', precision_score(y_valid, y_pred3))\n",
    "print('F1 score is:', f1_score(y_valid, y_pred3))"
   ]
  },
  {
   "cell_type": "code",
   "execution_count": 31,
   "id": "3df75759",
   "metadata": {},
   "outputs": [
    {
     "name": "stdout",
     "output_type": "stream",
     "text": [
      "Accurac.y Score is: 0.9019339536580916\n",
      "Recall Score is: 0.20846905537459284\n",
      "Precision Score: 0.35687732342007433\n",
      "F1 score is: 0.26319396847155585\n",
      "\n",
      " The confusion matrix is : \n",
      " [[9695  346]\n",
      " [ 729  192]]\n"
     ]
    }
   ],
   "source": [
    "# Applying Gaussian Naive Bayes Classifier\n",
    "\n",
    "from sklearn.naive_bayes import GaussianNB\n",
    "from sklearn.metrics import classification_report,confusion_matrix,accuracy_score, precision_score,recall_score, f1_score\n",
    "Classifier= GaussianNB()\n",
    "Classifier.fit(x_train, y_train)\n",
    "y_pred4= Classifier.predict(x_valid)\n",
    "y_train_pred= Classifier.predict(x_valid)\n",
    "\n",
    "print('Accurac.y Score is:', accuracy_score(y_valid, y_pred4))\n",
    "print('Recall Score is:', recall_score(y_valid, y_pred4))\n",
    "print('Precision Score:', precision_score(y_valid, y_pred4))\n",
    "print('F1 score is:', f1_score(y_valid, y_pred4))\n",
    "\n",
    "print(\"\\n The confusion matrix is : \\n\", confusion_matrix(y_valid, y_pred4))"
   ]
  },
  {
   "cell_type": "code",
   "execution_count": 32,
   "id": "e9b98eae",
   "metadata": {},
   "outputs": [
    {
     "name": "stdout",
     "output_type": "stream",
     "text": [
      "Accurac.y Score is: 0.8959131545338442\n",
      "Recall Score is: 0.20304017372421282\n",
      "Precision Score: 0.3148148148148148\n",
      "F1 score is: 0.24686468646864687\n",
      "\n",
      " The confusion matrix is : \n",
      " [[9634  407]\n",
      " [ 734  187]]\n"
     ]
    }
   ],
   "source": [
    " # Applying Bernoulli Naive Bayes Classifier\n",
    "    \n",
    "from sklearn.naive_bayes import BernoulliNB\n",
    "classifier= BernoulliNB()\n",
    "classifier.fit(x_train, y_train)\n",
    "y_pred5= classifier.predict(x_valid)\n",
    "y_train_pred1= classifier.predict(x_valid)\n",
    "\n",
    "print('Accurac.y Score is:', accuracy_score(y_valid, y_pred5))\n",
    "print('Recall Score is:', recall_score(y_valid, y_pred5))\n",
    "print('Precision Score:', precision_score(y_valid, y_pred5))\n",
    "print('F1 score is:', f1_score(y_valid, y_pred5))\n",
    "\n",
    "print(\"\\n The confusion matrix is : \\n\", confusion_matrix(y_valid, y_pred5))"
   ]
  },
  {
   "cell_type": "code",
   "execution_count": 33,
   "id": "8f486251",
   "metadata": {},
   "outputs": [
    {
     "name": "stdout",
     "output_type": "stream",
     "text": [
      "Accurac.y Score is: 0.9159824849480022\n",
      "Recall Score is: 0.0\n",
      "Precision Score: 0.0\n",
      "F1 score is: 0.0\n",
      "\n",
      " The confusion matrix is : \n",
      " [[10041     0]\n",
      " [  921     0]]\n"
     ]
    },
    {
     "name": "stderr",
     "output_type": "stream",
     "text": [
      "C:\\Users\\Wahu_Buzz\\anaconda3\\lib\\site-packages\\sklearn\\metrics\\_classification.py:1318: UndefinedMetricWarning: Precision is ill-defined and being set to 0.0 due to no predicted samples. Use `zero_division` parameter to control this behavior.\n",
      "  _warn_prf(average, modifier, msg_start, len(result))\n"
     ]
    }
   ],
   "source": [
    "# Applying SVM Model\n",
    "from sklearn import svm\n",
    "from sklearn.svm import SVC\n",
    "\n",
    "svm_linear = SVC(kernel= \"linear\")\n",
    "svm_linear.fit(x_train,y_train)\n",
    "y_pred6 = svm_linear.predict(x_valid)\n",
    "y_train_pred2 = svm_linear.predict(x_train)\n",
    "\n",
    "print('Accurac.y Score is:', accuracy_score(y_valid, y_pred6))\n",
    "print('Recall Score is:', recall_score(y_valid, y_pred6))\n",
    "print('Precision Score:', precision_score(y_valid, y_pred6))\n",
    "print('F1 score is:', f1_score(y_valid, y_pred6))\n",
    "\n",
    "print(\"\\n The confusion matrix is : \\n\", confusion_matrix(y_valid, y_pred6))"
   ]
  },
  {
   "cell_type": "code",
   "execution_count": 34,
   "id": "fdf8e548",
   "metadata": {},
   "outputs": [
    {
     "name": "stdout",
     "output_type": "stream",
     "text": [
      "Accurac.y Score is: 0.9273855135924102\n",
      "Recall Score is: 0.1965255157437568\n",
      "Precision Score: 0.7637130801687764\n",
      "F1 score is: 0.3126079447322971\n",
      "\n",
      " The confusion matrix is : \n",
      " [[9985   56]\n",
      " [ 740  181]]\n"
     ]
    }
   ],
   "source": [
    "# Applying KNN model\n",
    "\n",
    "from sklearn.neighbors import KNeighborsClassifier\n",
    "classifer = KNeighborsClassifier(n_neighbors=4,metric = \"minkowski\") \n",
    "classifer.fit(x_train,y_train)\n",
    "y_pred7 = classifer.predict(x_valid)\n",
    "\n",
    "y_train_pred3 = classifer.predict(x_train)\n",
    "\n",
    "print('Accurac.y Score is:', accuracy_score(y_valid, y_pred7))\n",
    "print('Recall Score is:', recall_score(y_valid, y_pred7))\n",
    "print('Precision Score:', precision_score(y_valid, y_pred7))\n",
    "print('F1 score is:', f1_score(y_valid, y_pred7))\n",
    "\n",
    "print(\"\\n The confusion matrix is : \\n\", confusion_matrix(y_valid, y_pred7))"
   ]
  },
  {
   "cell_type": "code",
   "execution_count": 35,
   "id": "3cf8a93c",
   "metadata": {},
   "outputs": [
    {
     "data": {
      "text/html": [
       "<div>\n",
       "<style scoped>\n",
       "    .dataframe tbody tr th:only-of-type {\n",
       "        vertical-align: middle;\n",
       "    }\n",
       "\n",
       "    .dataframe tbody tr th {\n",
       "        vertical-align: top;\n",
       "    }\n",
       "\n",
       "    .dataframe thead th {\n",
       "        text-align: right;\n",
       "    }\n",
       "</style>\n",
       "<table border=\"1\" class=\"dataframe\">\n",
       "  <thead>\n",
       "    <tr style=\"text-align: right;\">\n",
       "      <th></th>\n",
       "      <th>employee_id</th>\n",
       "      <th>department</th>\n",
       "      <th>region</th>\n",
       "      <th>education</th>\n",
       "      <th>gender</th>\n",
       "      <th>recruitment_channel</th>\n",
       "      <th>no_of_trainings</th>\n",
       "      <th>age</th>\n",
       "      <th>previous_year_rating</th>\n",
       "      <th>length_of_service</th>\n",
       "      <th>KPIs_met &gt;80%</th>\n",
       "      <th>awards_won?</th>\n",
       "      <th>avg_training_score</th>\n",
       "      <th>is_promoted</th>\n",
       "    </tr>\n",
       "  </thead>\n",
       "  <tbody>\n",
       "    <tr>\n",
       "      <th>0</th>\n",
       "      <td>8724</td>\n",
       "      <td>Technology</td>\n",
       "      <td>region_26</td>\n",
       "      <td>Bachelor's</td>\n",
       "      <td>m</td>\n",
       "      <td>sourcing</td>\n",
       "      <td>1</td>\n",
       "      <td>24</td>\n",
       "      <td>3.0</td>\n",
       "      <td>1</td>\n",
       "      <td>1</td>\n",
       "      <td>0</td>\n",
       "      <td>77</td>\n",
       "      <td>0</td>\n",
       "    </tr>\n",
       "    <tr>\n",
       "      <th>1</th>\n",
       "      <td>74430</td>\n",
       "      <td>HR</td>\n",
       "      <td>region_4</td>\n",
       "      <td>Bachelor's</td>\n",
       "      <td>f</td>\n",
       "      <td>other</td>\n",
       "      <td>1</td>\n",
       "      <td>31</td>\n",
       "      <td>3.0</td>\n",
       "      <td>5</td>\n",
       "      <td>0</td>\n",
       "      <td>0</td>\n",
       "      <td>51</td>\n",
       "      <td>0</td>\n",
       "    </tr>\n",
       "    <tr>\n",
       "      <th>2</th>\n",
       "      <td>72255</td>\n",
       "      <td>Sales &amp; Marketing</td>\n",
       "      <td>region_13</td>\n",
       "      <td>Bachelor's</td>\n",
       "      <td>m</td>\n",
       "      <td>other</td>\n",
       "      <td>1</td>\n",
       "      <td>31</td>\n",
       "      <td>1.0</td>\n",
       "      <td>4</td>\n",
       "      <td>0</td>\n",
       "      <td>0</td>\n",
       "      <td>47</td>\n",
       "      <td>0</td>\n",
       "    </tr>\n",
       "    <tr>\n",
       "      <th>3</th>\n",
       "      <td>38562</td>\n",
       "      <td>Procurement</td>\n",
       "      <td>region_2</td>\n",
       "      <td>Bachelor's</td>\n",
       "      <td>f</td>\n",
       "      <td>other</td>\n",
       "      <td>3</td>\n",
       "      <td>31</td>\n",
       "      <td>2.0</td>\n",
       "      <td>9</td>\n",
       "      <td>0</td>\n",
       "      <td>0</td>\n",
       "      <td>65</td>\n",
       "      <td>0</td>\n",
       "    </tr>\n",
       "    <tr>\n",
       "      <th>4</th>\n",
       "      <td>64486</td>\n",
       "      <td>Finance</td>\n",
       "      <td>region_29</td>\n",
       "      <td>Bachelor's</td>\n",
       "      <td>m</td>\n",
       "      <td>sourcing</td>\n",
       "      <td>1</td>\n",
       "      <td>30</td>\n",
       "      <td>4.0</td>\n",
       "      <td>7</td>\n",
       "      <td>0</td>\n",
       "      <td>0</td>\n",
       "      <td>61</td>\n",
       "      <td>0</td>\n",
       "    </tr>\n",
       "    <tr>\n",
       "      <th>...</th>\n",
       "      <td>...</td>\n",
       "      <td>...</td>\n",
       "      <td>...</td>\n",
       "      <td>...</td>\n",
       "      <td>...</td>\n",
       "      <td>...</td>\n",
       "      <td>...</td>\n",
       "      <td>...</td>\n",
       "      <td>...</td>\n",
       "      <td>...</td>\n",
       "      <td>...</td>\n",
       "      <td>...</td>\n",
       "      <td>...</td>\n",
       "      <td>...</td>\n",
       "    </tr>\n",
       "    <tr>\n",
       "      <th>23485</th>\n",
       "      <td>53478</td>\n",
       "      <td>Legal</td>\n",
       "      <td>region_2</td>\n",
       "      <td>Below Secondary</td>\n",
       "      <td>m</td>\n",
       "      <td>sourcing</td>\n",
       "      <td>1</td>\n",
       "      <td>24</td>\n",
       "      <td>3.0</td>\n",
       "      <td>1</td>\n",
       "      <td>0</td>\n",
       "      <td>0</td>\n",
       "      <td>61</td>\n",
       "      <td>0</td>\n",
       "    </tr>\n",
       "    <tr>\n",
       "      <th>23486</th>\n",
       "      <td>25600</td>\n",
       "      <td>Technology</td>\n",
       "      <td>region_25</td>\n",
       "      <td>Bachelor's</td>\n",
       "      <td>m</td>\n",
       "      <td>sourcing</td>\n",
       "      <td>1</td>\n",
       "      <td>31</td>\n",
       "      <td>3.0</td>\n",
       "      <td>7</td>\n",
       "      <td>0</td>\n",
       "      <td>0</td>\n",
       "      <td>74</td>\n",
       "      <td>0</td>\n",
       "    </tr>\n",
       "    <tr>\n",
       "      <th>23487</th>\n",
       "      <td>45409</td>\n",
       "      <td>HR</td>\n",
       "      <td>region_16</td>\n",
       "      <td>Bachelor's</td>\n",
       "      <td>f</td>\n",
       "      <td>sourcing</td>\n",
       "      <td>1</td>\n",
       "      <td>26</td>\n",
       "      <td>4.0</td>\n",
       "      <td>4</td>\n",
       "      <td>0</td>\n",
       "      <td>0</td>\n",
       "      <td>50</td>\n",
       "      <td>0</td>\n",
       "    </tr>\n",
       "    <tr>\n",
       "      <th>23488</th>\n",
       "      <td>1186</td>\n",
       "      <td>Procurement</td>\n",
       "      <td>region_31</td>\n",
       "      <td>Bachelor's</td>\n",
       "      <td>m</td>\n",
       "      <td>sourcing</td>\n",
       "      <td>3</td>\n",
       "      <td>27</td>\n",
       "      <td>3.0</td>\n",
       "      <td>1</td>\n",
       "      <td>0</td>\n",
       "      <td>0</td>\n",
       "      <td>70</td>\n",
       "      <td>0</td>\n",
       "    </tr>\n",
       "    <tr>\n",
       "      <th>23489</th>\n",
       "      <td>5973</td>\n",
       "      <td>Technology</td>\n",
       "      <td>region_17</td>\n",
       "      <td>Master's &amp; above</td>\n",
       "      <td>m</td>\n",
       "      <td>other</td>\n",
       "      <td>3</td>\n",
       "      <td>40</td>\n",
       "      <td>5.0</td>\n",
       "      <td>5</td>\n",
       "      <td>1</td>\n",
       "      <td>0</td>\n",
       "      <td>89</td>\n",
       "      <td>1</td>\n",
       "    </tr>\n",
       "  </tbody>\n",
       "</table>\n",
       "<p>23490 rows × 14 columns</p>\n",
       "</div>"
      ],
      "text/plain": [
       "       employee_id         department     region         education gender  \\\n",
       "0             8724         Technology  region_26        Bachelor's      m   \n",
       "1            74430                 HR   region_4        Bachelor's      f   \n",
       "2            72255  Sales & Marketing  region_13        Bachelor's      m   \n",
       "3            38562        Procurement   region_2        Bachelor's      f   \n",
       "4            64486            Finance  region_29        Bachelor's      m   \n",
       "...            ...                ...        ...               ...    ...   \n",
       "23485        53478              Legal   region_2   Below Secondary      m   \n",
       "23486        25600         Technology  region_25        Bachelor's      m   \n",
       "23487        45409                 HR  region_16        Bachelor's      f   \n",
       "23488         1186        Procurement  region_31        Bachelor's      m   \n",
       "23489         5973         Technology  region_17  Master's & above      m   \n",
       "\n",
       "      recruitment_channel  no_of_trainings  age  previous_year_rating  \\\n",
       "0                sourcing                1   24                   3.0   \n",
       "1                   other                1   31                   3.0   \n",
       "2                   other                1   31                   1.0   \n",
       "3                   other                3   31                   2.0   \n",
       "4                sourcing                1   30                   4.0   \n",
       "...                   ...              ...  ...                   ...   \n",
       "23485            sourcing                1   24                   3.0   \n",
       "23486            sourcing                1   31                   3.0   \n",
       "23487            sourcing                1   26                   4.0   \n",
       "23488            sourcing                3   27                   3.0   \n",
       "23489               other                3   40                   5.0   \n",
       "\n",
       "       length_of_service  KPIs_met >80%  awards_won?  avg_training_score  \\\n",
       "0                      1              1            0                  77   \n",
       "1                      5              0            0                  51   \n",
       "2                      4              0            0                  47   \n",
       "3                      9              0            0                  65   \n",
       "4                      7              0            0                  61   \n",
       "...                  ...            ...          ...                 ...   \n",
       "23485                  1              0            0                  61   \n",
       "23486                  7              0            0                  74   \n",
       "23487                  4              0            0                  50   \n",
       "23488                  1              0            0                  70   \n",
       "23489                  5              1            0                  89   \n",
       "\n",
       "       is_promoted  \n",
       "0                0  \n",
       "1                0  \n",
       "2                0  \n",
       "3                0  \n",
       "4                0  \n",
       "...            ...  \n",
       "23485            0  \n",
       "23486            0  \n",
       "23487            0  \n",
       "23488            0  \n",
       "23489            1  \n",
       "\n",
       "[23490 rows x 14 columns]"
      ]
     },
     "execution_count": 35,
     "metadata": {},
     "output_type": "execute_result"
    }
   ],
   "source": [
    "y_pred3= rf.predict(x_test)\n",
    "test['is_promoted']= y_pred3\n",
    "test"
   ]
  },
  {
   "cell_type": "code",
   "execution_count": 36,
   "id": "8cc7ab52",
   "metadata": {},
   "outputs": [],
   "source": [
    "output=pd.DataFrame(data={\"employee_id\":test[\"employee_id\"],\"Prediction\":test['is_promoted']}) \n",
    "output.to_csv(path_or_buf=\"C:/Users/Wahu_Buzz/Downloads/results.csv\",index=False,quoting=3,)"
   ]
  },
  {
   "cell_type": "code",
   "execution_count": null,
   "id": "f552290d",
   "metadata": {},
   "outputs": [],
   "source": []
  },
  {
   "cell_type": "code",
   "execution_count": null,
   "id": "31bbfbd9",
   "metadata": {},
   "outputs": [],
   "source": []
  }
 ],
 "metadata": {
  "kernelspec": {
   "display_name": "Python 3 (ipykernel)",
   "language": "python",
   "name": "python3"
  },
  "language_info": {
   "codemirror_mode": {
    "name": "ipython",
    "version": 3
   },
   "file_extension": ".py",
   "mimetype": "text/x-python",
   "name": "python",
   "nbconvert_exporter": "python",
   "pygments_lexer": "ipython3",
   "version": "3.9.12"
  }
 },
 "nbformat": 4,
 "nbformat_minor": 5
}
